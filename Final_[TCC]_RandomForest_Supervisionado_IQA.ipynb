{
  "nbformat": 4,
  "nbformat_minor": 0,
  "metadata": {
    "colab": {
      "provenance": [],
      "collapsed_sections": [
        "ML7MZGPUZ1b_"
      ],
      "authorship_tag": "ABX9TyOBBKfjPt1vvievRHDAqvDj",
      "include_colab_link": true
    },
    "kernelspec": {
      "name": "python3",
      "display_name": "Python 3"
    },
    "language_info": {
      "name": "python"
    }
  },
  "cells": [
    {
      "cell_type": "markdown",
      "metadata": {
        "id": "view-in-github",
        "colab_type": "text"
      },
      "source": [
        "<a href=\"https://colab.research.google.com/github/gabriellabc/monitoramento_agua_superficial_subterranea/blob/main/Final_%5BTCC%5D_RandomForest_Supervisionado_IQA.ipynb\" target=\"_parent\"><img src=\"https://colab.research.google.com/assets/colab-badge.svg\" alt=\"Open In Colab\"/></a>"
      ]
    },
    {
      "cell_type": "code",
      "execution_count": null,
      "metadata": {
        "colab": {
          "base_uri": "https://localhost:8080/"
        },
        "id": "QqD--E6QELfp",
        "outputId": "8b1cb813-43b7-444a-8f78-b2a0b57e4002"
      },
      "outputs": [
        {
          "output_type": "stream",
          "name": "stdout",
          "text": [
            "Drive already mounted at /content/drive; to attempt to forcibly remount, call drive.mount(\"/content/drive\", force_remount=True).\n"
          ]
        }
      ],
      "source": [
        "import pandas as pd\n",
        "from google.colab import drive\n",
        "drive.mount('/content/drive')"
      ]
    },
    {
      "cell_type": "code",
      "source": [
        "!pip install pyspark"
      ],
      "metadata": {
        "colab": {
          "base_uri": "https://localhost:8080/"
        },
        "id": "MMkeNU7wGYSZ",
        "outputId": "90711f3c-b40c-40d7-fb7f-c451d05e31d3"
      },
      "execution_count": null,
      "outputs": [
        {
          "output_type": "stream",
          "name": "stdout",
          "text": [
            "Requirement already satisfied: pyspark in /usr/local/lib/python3.11/dist-packages (3.5.4)\n",
            "Requirement already satisfied: py4j==0.10.9.7 in /usr/local/lib/python3.11/dist-packages (from pyspark) (0.10.9.7)\n"
          ]
        }
      ]
    },
    {
      "cell_type": "code",
      "source": [
        "from pyspark.sql import SparkSession\n",
        "\n",
        "spark = SparkSession.builder \\\n",
        "    .master('local[*]') \\\n",
        "    .appName(\"Regressão com Spark\") \\\n",
        "    .getOrCreate()\n",
        "\n",
        "spark"
      ],
      "metadata": {
        "colab": {
          "base_uri": "https://localhost:8080/",
          "height": 219
        },
        "id": "3y5W4zeWGmAG",
        "outputId": "b8d86f53-e680-4999-a462-f3f2d79d8a3d"
      },
      "execution_count": null,
      "outputs": [
        {
          "output_type": "execute_result",
          "data": {
            "text/plain": [
              "<pyspark.sql.session.SparkSession at 0x78ff876f2450>"
            ],
            "text/html": [
              "\n",
              "            <div>\n",
              "                <p><b>SparkSession - in-memory</b></p>\n",
              "                \n",
              "        <div>\n",
              "            <p><b>SparkContext</b></p>\n",
              "\n",
              "            <p><a href=\"http://8d52d8a1b43f:4040\">Spark UI</a></p>\n",
              "\n",
              "            <dl>\n",
              "              <dt>Version</dt>\n",
              "                <dd><code>v3.5.4</code></dd>\n",
              "              <dt>Master</dt>\n",
              "                <dd><code>local[*]</code></dd>\n",
              "              <dt>AppName</dt>\n",
              "                <dd><code>Regressão com Spark</code></dd>\n",
              "            </dl>\n",
              "        </div>\n",
              "        \n",
              "            </div>\n",
              "        "
            ]
          },
          "metadata": {},
          "execution_count": 3
        }
      ]
    },
    {
      "cell_type": "code",
      "source": [
        "dados = spark.read.csv('/content/drive/MyDrive/Colab Notebooks/Base de dados/IQA_calculado.csv', header=True)"
      ],
      "metadata": {
        "id": "W7bru0TkHNxa"
      },
      "execution_count": null,
      "outputs": []
    },
    {
      "cell_type": "code",
      "source": [
        "dados"
      ],
      "metadata": {
        "colab": {
          "base_uri": "https://localhost:8080/"
        },
        "id": "Q02O1Bj5H3tV",
        "outputId": "116813f8-0f51-487c-d98a-bf11a9d4f77b"
      },
      "execution_count": null,
      "outputs": [
        {
          "output_type": "execute_result",
          "data": {
            "text/plain": [
              "DataFrame[Precipitação [mm]: string, DBO (5, 20) [mg/L]: string, Escherichia coli** [UFC/100mL]: string, Fósforo Total [mg/L]: string, Nitrogênio Total [mg/L]: string, Sólido Total [mg/L]: string, Temperatura da Água [ºC]: string, Turbidez [UNT]: string, pH [U.pH]: string, Oxigênio Dissolvido [mg/L]: string, IQA: string]"
            ]
          },
          "metadata": {},
          "execution_count": 5
        }
      ]
    },
    {
      "cell_type": "code",
      "source": [
        "dados.show(truncate=False)"
      ],
      "metadata": {
        "colab": {
          "base_uri": "https://localhost:8080/"
        },
        "id": "8ZY38qmEH7nu",
        "outputId": "14d62c15-e311-41f4-d48c-55ff336426c2"
      },
      "execution_count": null,
      "outputs": [
        {
          "output_type": "stream",
          "name": "stdout",
          "text": [
            "+-----------------+------------------+------------------------------+--------------------+-----------------------+-------------------+------------------------+--------------+---------+--------------------------+------------------+\n",
            "|Precipitação [mm]|DBO (5, 20) [mg/L]|Escherichia coli** [UFC/100mL]|Fósforo Total [mg/L]|Nitrogênio Total [mg/L]|Sólido Total [mg/L]|Temperatura da Água [ºC]|Turbidez [UNT]|pH [U.pH]|Oxigênio Dissolvido [mg/L]|IQA               |\n",
            "+-----------------+------------------+------------------------------+--------------------+-----------------------+-------------------+------------------------+--------------+---------+--------------------------+------------------+\n",
            "|200              |2.0               |18.0                          |0.05                |2.17                   |172.0              |27.3                    |65.0          |6.81     |58.39371921146193         |81.02966761427672 |\n",
            "|200              |3.0               |87000.0                       |0.2                 |2.17                   |194.0              |25.9                    |60.0          |7.07     |59.4786223377001          |50.98328905512943 |\n",
            "|80               |2.0               |1340.0                        |0.06                |2.17                   |106.0              |24.3                    |50.0          |6.87     |56.59953131615468         |75.52473024488863 |\n",
            "|80               |3.0               |24000.0                       |0.28                |2.17                   |134.0              |22.1                    |39.0          |7.05     |54.68498545883629         |62.39667443012466 |\n",
            "|200              |2.0               |3800.0                        |0.06                |2.17                   |135.0              |26.5                    |50.0          |7.19     |72.99725019443471         |73.55242195203768 |\n",
            "|200              |6.0               |79000.0                       |0.39                |2.17                   |168.0              |24.4                    |31.3          |7.14     |56.950447465538666        |52.403554467369254|\n",
            "|60               |19.0              |360000.0                      |1.0                 |2.17                   |526.0              |25.0                    |360.0         |7.0      |58.71088330065247         |32.01599911624673 |\n",
            "|60               |2.0               |680.0                         |0.08                |2.17                   |85.0               |24.4                    |31.7          |6.9      |96.73112096057523         |83.5177478355604  |\n",
            "|60               |2.0               |33000.0                       |0.1                 |2.17                   |100.0              |22.0                    |92.9          |6.3      |92.30769463668645         |58.8249705221612  |\n",
            "|60               |4.0               |32000.0                       |0.1                 |2.17                   |104.0              |25.4                    |55.6          |6.8      |60.39393079381096         |60.57607857221556 |\n",
            "|60               |3.0               |2200.0                        |0.3                 |2.17                   |124.0              |23.6                    |14.9          |7.1      |82.1507397620217          |79.96846651949589 |\n",
            "|50               |2.0               |960.0                         |0.05                |2.17                   |105.0              |19.8                    |14.0          |7.17     |81.57882410765993         |84.60199809926057 |\n",
            "|50               |10.0              |8000.0                        |0.73                |2.17                   |151.0              |21.1                    |28.0          |7.31     |48.28055752878198         |60.62961125450004 |\n",
            "|70               |61.0              |780000.0                      |2.0                 |2.17                   |238.0              |18.47                   |64.0          |6.88     |27.923212728475296        |25.765845660936137|\n",
            "|70               |4.0               |1100.0                        |0.2                 |2.17                   |100.0              |15.2                    |8.0           |6.5      |61.06247127647618         |80.46336056745879 |\n",
            "|70               |6.0               |400.0                         |0.02                |2.17                   |100.0              |16.7                    |12.0          |6.5      |76.54349072965941         |83.29898349625984 |\n",
            "|70               |4.0               |87.0                          |0.02                |2.17                   |100.0              |17.9                    |14.0          |7.0      |91.26219597387339         |88.54599893291251 |\n",
            "|70               |4.0               |1700.0                        |0.05                |2.17                   |100.0              |15.0                    |12.0          |6.5      |90.68995146119326         |81.72384435843944 |\n",
            "|70               |4.0               |24000.0                       |0.02                |2.17                   |100.0              |18.39                   |14.0          |6.98     |72.2645353797894          |67.93611232894018 |\n",
            "|70               |17.0              |70000.0                       |0.3                 |2.17                   |100.0              |17.35                   |10.0          |6.58     |31.781126382157876        |44.725455992763806|\n",
            "+-----------------+------------------+------------------------------+--------------------+-----------------------+-------------------+------------------------+--------------+---------+--------------------------+------------------+\n",
            "only showing top 20 rows\n",
            "\n"
          ]
        }
      ]
    },
    {
      "cell_type": "code",
      "source": [
        "dados.count()"
      ],
      "metadata": {
        "colab": {
          "base_uri": "https://localhost:8080/"
        },
        "id": "4tyYMR-wIGLs",
        "outputId": "fb6b2491-64e2-4629-ab65-cfeeb873c602"
      },
      "execution_count": null,
      "outputs": [
        {
          "output_type": "execute_result",
          "data": {
            "text/plain": [
              "1783"
            ]
          },
          "metadata": {},
          "execution_count": 7
        }
      ]
    },
    {
      "cell_type": "markdown",
      "source": [
        "# **Investigando os dados**"
      ],
      "metadata": {
        "id": "0YHlyFDNOv39"
      }
    },
    {
      "cell_type": "markdown",
      "source": [
        "**Seleção de features**"
      ],
      "metadata": {
        "id": "-NDlis4gOCIp"
      }
    },
    {
      "cell_type": "code",
      "source": [
        "dados.printSchema()"
      ],
      "metadata": {
        "colab": {
          "base_uri": "https://localhost:8080/"
        },
        "id": "trndoWmXOFwU",
        "outputId": "85ec50e0-62f4-4f26-aba8-365e51a6f89a"
      },
      "execution_count": null,
      "outputs": [
        {
          "output_type": "stream",
          "name": "stdout",
          "text": [
            "root\n",
            " |-- Precipitação [mm]: string (nullable = true)\n",
            " |-- DBO (5, 20) [mg/L]: string (nullable = true)\n",
            " |-- Escherichia coli** [UFC/100mL]: string (nullable = true)\n",
            " |-- Fósforo Total [mg/L]: string (nullable = true)\n",
            " |-- Nitrogênio Total [mg/L]: string (nullable = true)\n",
            " |-- Sólido Total [mg/L]: string (nullable = true)\n",
            " |-- Temperatura da Água [ºC]: string (nullable = true)\n",
            " |-- Turbidez [UNT]: string (nullable = true)\n",
            " |-- pH [U.pH]: string (nullable = true)\n",
            " |-- Oxigênio Dissolvido [mg/L]: string (nullable = true)\n",
            " |-- IQA: string (nullable = true)\n",
            "\n"
          ]
        }
      ]
    },
    {
      "cell_type": "code",
      "source": [
        "dataset = dados"
      ],
      "metadata": {
        "id": "gIQGpe1DQvmB"
      },
      "execution_count": null,
      "outputs": []
    },
    {
      "cell_type": "code",
      "source": [
        "dataset = dataset.withColumnRenamed(\"pH [U.pH]\", \"pH\") \\\n",
        "                .withColumnRenamed(\"Precipitação [mm]\", \"Precipitacao\") \\\n",
        "                .withColumnRenamed(\"Escherichia coli** [UFC/100mL]\", \"Escherichia_coli\") \\\n",
        "                .withColumnRenamed(\"Fósforo Total [mg/L]\", \"Fosforo\") \\\n",
        "                .withColumnRenamed(\"Nitrogênio Total [mg/L]\", \"Nitrogenio\") \\\n",
        "                .withColumnRenamed(\"Oxigênio Dissolvido [mg/L]\", \"Oxigenio_Dissolvido\") \\\n",
        "                .withColumnRenamed(\"Temperatura da Água [ºC]\", \"Temperatura\") \\\n",
        "                .withColumnRenamed(\"Turbidez [UNT]\", \"Turbidez\") \\\n",
        "                .withColumnRenamed(\"Sólido Total [mg/L]\", \"Solido\") \\\n",
        "                .withColumnRenamed(\"DBO (5, 20) [mg/L]\", \"DBO\")"
      ],
      "metadata": {
        "id": "GSV1q8xdSxYA"
      },
      "execution_count": null,
      "outputs": []
    },
    {
      "cell_type": "code",
      "source": [
        "from pyspark.sql.types import IntegerType, DoubleType\n",
        "from pyspark.sql import functions as f"
      ],
      "metadata": {
        "id": "y1YQBHB1PqxD"
      },
      "execution_count": null,
      "outputs": []
    },
    {
      "cell_type": "code",
      "source": [
        "colunas_numericas = [\n",
        "    'Precipitacao',\n",
        "    'DBO',\n",
        "    'Escherichia_coli',\n",
        "    'Fosforo',\n",
        "    'Nitrogenio',\n",
        "    'Oxigenio_Dissolvido',\n",
        "    'Solido',\n",
        "    'Temperatura',\n",
        "    'Turbidez',\n",
        "    'pH',\n",
        "    'IQA'\n",
        "]\n",
        "\n",
        "for coluna in colunas_numericas:\n",
        "    dataset = dataset.withColumn(coluna, dataset[coluna].cast(DoubleType()))"
      ],
      "metadata": {
        "id": "PuV00orOY3lh"
      },
      "execution_count": null,
      "outputs": []
    },
    {
      "cell_type": "code",
      "source": [
        "dataset.printSchema()"
      ],
      "metadata": {
        "colab": {
          "base_uri": "https://localhost:8080/"
        },
        "id": "8MeOtYP8DnAJ",
        "outputId": "8983ac8a-5d91-4fc3-aa04-097648f4fbe8"
      },
      "execution_count": null,
      "outputs": [
        {
          "output_type": "stream",
          "name": "stdout",
          "text": [
            "root\n",
            " |-- Precipitacao: double (nullable = true)\n",
            " |-- DBO: double (nullable = true)\n",
            " |-- Escherichia_coli: double (nullable = true)\n",
            " |-- Fosforo: double (nullable = true)\n",
            " |-- Nitrogenio: double (nullable = true)\n",
            " |-- Solido: double (nullable = true)\n",
            " |-- Temperatura: double (nullable = true)\n",
            " |-- Turbidez: double (nullable = true)\n",
            " |-- pH: double (nullable = true)\n",
            " |-- Oxigenio_Dissolvido: double (nullable = true)\n",
            " |-- IQA: double (nullable = true)\n",
            "\n"
          ]
        }
      ]
    },
    {
      "cell_type": "code",
      "source": [
        "dataset\\\n",
        "    .select('Precipitacao')\\\n",
        "    .groupBy('Precipitacao')\\\n",
        "    .count()\\\n",
        "    .show()"
      ],
      "metadata": {
        "colab": {
          "base_uri": "https://localhost:8080/"
        },
        "id": "7FXctELgPrZj",
        "outputId": "adc3500a-fc28-4583-aacb-3afa8c49f43b"
      },
      "execution_count": null,
      "outputs": [
        {
          "output_type": "stream",
          "name": "stdout",
          "text": [
            "+------------+-----+\n",
            "|Precipitacao|count|\n",
            "+------------+-----+\n",
            "|       170.0|   89|\n",
            "|       160.0|   66|\n",
            "|        70.0|   97|\n",
            "|       180.0|   16|\n",
            "|       280.0|   38|\n",
            "|        80.0|   78|\n",
            "|       120.0|   36|\n",
            "|       250.0|   16|\n",
            "|       210.0|   36|\n",
            "|       330.0|   22|\n",
            "|        50.0|   75|\n",
            "|       230.0|    8|\n",
            "|       400.0|   18|\n",
            "|       130.0|   22|\n",
            "|        60.0|  180|\n",
            "|       200.0|  155|\n",
            "|        10.0|  150|\n",
            "|        30.0|  108|\n",
            "|        40.0|   52|\n",
            "|       260.0|   20|\n",
            "+------------+-----+\n",
            "only showing top 20 rows\n",
            "\n"
          ]
        }
      ]
    },
    {
      "cell_type": "code",
      "source": [
        "dataset.columns"
      ],
      "metadata": {
        "colab": {
          "base_uri": "https://localhost:8080/"
        },
        "id": "wRw_mP_GXpBK",
        "outputId": "b4e92589-2985-4527-cbaf-3bc49a42c18f"
      },
      "execution_count": null,
      "outputs": [
        {
          "output_type": "execute_result",
          "data": {
            "text/plain": [
              "['Precipitacao',\n",
              " 'DBO',\n",
              " 'Escherichia_coli',\n",
              " 'Fosforo',\n",
              " 'Nitrogenio',\n",
              " 'Solido',\n",
              " 'Temperatura',\n",
              " 'Turbidez',\n",
              " 'pH',\n",
              " 'Oxigenio_Dissolvido',\n",
              " 'IQA']"
            ]
          },
          "metadata": {},
          "execution_count": 15
        }
      ]
    },
    {
      "cell_type": "code",
      "source": [
        "dataset\\\n",
        "    .select([f.count(f.when(f.isnan(c) | f.isnull(c), True)).alias(c) for c in dataset.columns])\\\n",
        "    .show()"
      ],
      "metadata": {
        "colab": {
          "base_uri": "https://localhost:8080/"
        },
        "id": "Pq66KMetPjWa",
        "outputId": "342f8667-4bc2-44c8-e2a6-bda6ee38694d"
      },
      "execution_count": null,
      "outputs": [
        {
          "output_type": "stream",
          "name": "stdout",
          "text": [
            "+------------+---+----------------+-------+----------+------+-----------+--------+---+-------------------+---+\n",
            "|Precipitacao|DBO|Escherichia_coli|Fosforo|Nitrogenio|Solido|Temperatura|Turbidez| pH|Oxigenio_Dissolvido|IQA|\n",
            "+------------+---+----------------+-------+----------+------+-----------+--------+---+-------------------+---+\n",
            "|           0|  0|               0|      0|         0|     0|          0|       0|  0|                  0|  0|\n",
            "+------------+---+----------------+-------+----------+------+-----------+--------+---+-------------------+---+\n",
            "\n"
          ]
        }
      ]
    },
    {
      "cell_type": "markdown",
      "source": [
        "**Vetorização dos dados**"
      ],
      "metadata": {
        "id": "UPobvpezXBzU"
      }
    },
    {
      "cell_type": "code",
      "source": [
        "from pyspark.ml.feature import VectorAssembler"
      ],
      "metadata": {
        "id": "yVg3Naq0XEZd"
      },
      "execution_count": null,
      "outputs": []
    },
    {
      "cell_type": "code",
      "source": [
        "dataset = dataset.withColumnRenamed('IQA', 'label')"
      ],
      "metadata": {
        "id": "Ir_Tg17mXLVh"
      },
      "execution_count": null,
      "outputs": []
    },
    {
      "cell_type": "code",
      "source": [
        "X = [\n",
        "    'Precipitacao',\n",
        " 'DBO',\n",
        " 'Escherichia_coli',\n",
        " 'Fosforo',\n",
        " 'Nitrogenio',\n",
        " 'Oxigenio_Dissolvido',\n",
        " 'Solido',\n",
        " 'Temperatura',\n",
        " 'Turbidez',\n",
        " 'pH',\n",
        "]"
      ],
      "metadata": {
        "id": "iA10Ci0JXY-h"
      },
      "execution_count": null,
      "outputs": []
    },
    {
      "cell_type": "code",
      "source": [
        "assembler = VectorAssembler(inputCols=X, outputCol='features')"
      ],
      "metadata": {
        "id": "WcAQLFJKXyuC"
      },
      "execution_count": null,
      "outputs": []
    },
    {
      "cell_type": "code",
      "source": [
        "dataset_prep = assembler.transform(dataset).select('features', 'label')"
      ],
      "metadata": {
        "id": "-SgE9bwzYYPK"
      },
      "execution_count": null,
      "outputs": []
    },
    {
      "cell_type": "code",
      "source": [
        "dataset_prep.show(10, truncate=False)"
      ],
      "metadata": {
        "colab": {
          "base_uri": "https://localhost:8080/"
        },
        "id": "6Zv5Gd0lZReg",
        "outputId": "8e1fd7e1-26c8-4a1d-c014-918be8c1e2af"
      },
      "execution_count": null,
      "outputs": [
        {
          "output_type": "stream",
          "name": "stdout",
          "text": [
            "+---------------------------------------------------------------------+------------------+\n",
            "|features                                                             |label             |\n",
            "+---------------------------------------------------------------------+------------------+\n",
            "|[200.0,2.0,18.0,0.05,2.17,58.39371921146193,172.0,27.3,65.0,6.81]    |81.02966761427672 |\n",
            "|[200.0,3.0,87000.0,0.2,2.17,59.4786223377001,194.0,25.9,60.0,7.07]   |50.98328905512943 |\n",
            "|[80.0,2.0,1340.0,0.06,2.17,56.59953131615468,106.0,24.3,50.0,6.87]   |75.52473024488863 |\n",
            "|[80.0,3.0,24000.0,0.28,2.17,54.68498545883629,134.0,22.1,39.0,7.05]  |62.39667443012466 |\n",
            "|[200.0,2.0,3800.0,0.06,2.17,72.99725019443471,135.0,26.5,50.0,7.19]  |73.55242195203768 |\n",
            "|[200.0,6.0,79000.0,0.39,2.17,56.950447465538666,168.0,24.4,31.3,7.14]|52.403554467369254|\n",
            "|[60.0,19.0,360000.0,1.0,2.17,58.71088330065247,526.0,25.0,360.0,7.0] |32.01599911624673 |\n",
            "|[60.0,2.0,680.0,0.08,2.17,96.73112096057523,85.0,24.4,31.7,6.9]      |83.5177478355604  |\n",
            "|[60.0,2.0,33000.0,0.1,2.17,92.30769463668645,100.0,22.0,92.9,6.3]    |58.8249705221612  |\n",
            "|[60.0,4.0,32000.0,0.1,2.17,60.39393079381096,104.0,25.4,55.6,6.8]    |60.57607857221556 |\n",
            "+---------------------------------------------------------------------+------------------+\n",
            "only showing top 10 rows\n",
            "\n"
          ]
        }
      ]
    },
    {
      "cell_type": "markdown",
      "source": [
        "# **Dados de treino e teste**"
      ],
      "metadata": {
        "id": "LrWAG-2ki9yF"
      }
    },
    {
      "cell_type": "code",
      "source": [
        "treino, teste = dataset_prep.randomSplit([0.7, 0.3], seed=101)"
      ],
      "metadata": {
        "id": "XDK9R44yjD3D"
      },
      "execution_count": null,
      "outputs": []
    },
    {
      "cell_type": "code",
      "source": [
        "treino.count()"
      ],
      "metadata": {
        "colab": {
          "base_uri": "https://localhost:8080/"
        },
        "id": "3UMsKcmwjEdH",
        "outputId": "57706bf8-32a3-4225-a43b-9b5006c42401"
      },
      "execution_count": null,
      "outputs": [
        {
          "output_type": "execute_result",
          "data": {
            "text/plain": [
              "1240"
            ]
          },
          "metadata": {},
          "execution_count": 68
        }
      ]
    },
    {
      "cell_type": "code",
      "source": [
        "teste.count()"
      ],
      "metadata": {
        "colab": {
          "base_uri": "https://localhost:8080/"
        },
        "id": "z0dazpQkjEa1",
        "outputId": "7c0c7e5e-52d8-470a-8636-b74554f3385b"
      },
      "execution_count": null,
      "outputs": [
        {
          "output_type": "execute_result",
          "data": {
            "text/plain": [
              "543"
            ]
          },
          "metadata": {},
          "execution_count": 69
        }
      ]
    },
    {
      "cell_type": "markdown",
      "source": [
        "# **Random Forest**"
      ],
      "metadata": {
        "id": "7Nk4W0w2mIK0"
      }
    },
    {
      "cell_type": "code",
      "source": [
        "from pyspark.sql import SparkSession\n",
        "from pyspark.ml.regression import RandomForestRegressor"
      ],
      "metadata": {
        "id": "Kc90pb8umP6j"
      },
      "execution_count": null,
      "outputs": []
    },
    {
      "cell_type": "code",
      "source": [
        "spark = SparkSession.builder \\\n",
        "    .appName(\"Regressão com Spark\") \\\n",
        "    .getOrCreate()"
      ],
      "metadata": {
        "id": "lBEgQ8EBHxlz"
      },
      "execution_count": null,
      "outputs": []
    },
    {
      "cell_type": "code",
      "source": [
        "rfr = RandomForestRegressor(seed=101, maxDepth=7, numTrees=10)"
      ],
      "metadata": {
        "id": "olz7ZHHLmPxt"
      },
      "execution_count": null,
      "outputs": []
    },
    {
      "cell_type": "code",
      "source": [
        "modelo_rfr = rfr.fit(treino)"
      ],
      "metadata": {
        "id": "dudDMEP1mPsx"
      },
      "execution_count": null,
      "outputs": []
    },
    {
      "cell_type": "code",
      "source": [
        "previsoes_rfr_treino = modelo_rfr.transform(treino)"
      ],
      "metadata": {
        "id": "6hxcgIzamPWF"
      },
      "execution_count": null,
      "outputs": []
    },
    {
      "cell_type": "code",
      "source": [
        "previsoes_rfr_treino.show()"
      ],
      "metadata": {
        "colab": {
          "base_uri": "https://localhost:8080/"
        },
        "id": "xKswKsZuIcMp",
        "outputId": "8de389dc-9a40-4372-f678-b9bc3c32e877"
      },
      "execution_count": null,
      "outputs": [
        {
          "output_type": "stream",
          "name": "stdout",
          "text": [
            "+--------------------+-----------------+-----------------+\n",
            "|            features|            label|       prediction|\n",
            "+--------------------+-----------------+-----------------+\n",
            "|[10.0,2.0,1.0,0.0...|87.84421734341473|84.53942118186004|\n",
            "|[10.0,2.0,2.1,0.0...|93.54419951573361|86.66806443760754|\n",
            "|[10.0,2.0,3.1,0.3...|90.90093880213091| 86.6807826592985|\n",
            "|[10.0,2.0,22.0,0....|89.83452150038839|86.03720413675833|\n",
            "|[10.0,2.0,32.0,0....|88.91241442728891|85.94899534147729|\n",
            "|[10.0,2.0,46.0,0....|88.06806151235337|86.03720413675833|\n",
            "|[10.0,2.0,48.0,0....|81.80474251554433| 81.0189960666749|\n",
            "|[10.0,2.0,80.0,0....|88.52377155304724|86.82481259621116|\n",
            "|[10.0,2.0,81.0,0....|88.28575672708226|86.61146177527901|\n",
            "|[10.0,2.0,87.0,0....| 87.8847244191281|86.54292241195644|\n",
            "|[10.0,2.0,90.0,0....|86.79946329597128| 85.9980052837976|\n",
            "|[10.0,2.0,92.0,0....| 89.6171264943977|86.19267600713496|\n",
            "|[10.0,2.0,108.0,0...|85.97073136006925|86.32957159102429|\n",
            "|[10.0,2.0,120.0,0...|86.89612405760256|86.03720413675833|\n",
            "|[10.0,2.0,132.0,0...|83.77208083475271|85.10674318584832|\n",
            "|[10.0,2.0,138.0,0...|85.08145339828913|84.79481803711731|\n",
            "|[10.0,2.0,144.0,0...| 88.8965094493319|86.82481259621116|\n",
            "|[10.0,2.0,152.0,0...|84.97822647010727| 84.5636594790275|\n",
            "|[10.0,2.0,160.0,0...|85.73223805897038|85.56938484317027|\n",
            "|[10.0,2.0,163.0,0...|87.96409432195613|86.31781803278606|\n",
            "+--------------------+-----------------+-----------------+\n",
            "only showing top 20 rows\n",
            "\n"
          ]
        }
      ]
    },
    {
      "cell_type": "markdown",
      "source": [
        "## **Métricas**"
      ],
      "metadata": {
        "id": "GFGHegoLIdKE"
      }
    },
    {
      "cell_type": "code",
      "source": [
        "from pyspark.ml.evaluation import RegressionEvaluator"
      ],
      "metadata": {
        "id": "7Vpv-OnXJCAv"
      },
      "execution_count": null,
      "outputs": []
    },
    {
      "cell_type": "code",
      "source": [
        "evaluator = RegressionEvaluator(labelCol=\"label\", predictionCol=\"prediction\")"
      ],
      "metadata": {
        "id": "n_iYNFe9I84D"
      },
      "execution_count": null,
      "outputs": []
    },
    {
      "cell_type": "code",
      "source": [
        "print(evaluator.evaluate(previsoes_rfr_treino, {evaluator.metricName: \"r2\"}))\n",
        "print(evaluator.evaluate(previsoes_rfr_treino, {evaluator.metricName: \"rmse\"}))"
      ],
      "metadata": {
        "colab": {
          "base_uri": "https://localhost:8080/"
        },
        "id": "4BnKXtT4IcCR",
        "outputId": "bc48a9b8-9acd-4fda-9020-b153dde5f43d"
      },
      "execution_count": null,
      "outputs": [
        {
          "output_type": "stream",
          "name": "stdout",
          "text": [
            "0.9809054911893914\n",
            "2.0259700378046577\n"
          ]
        }
      ]
    },
    {
      "cell_type": "code",
      "source": [
        "previsoes_rfr_teste = modelo_rfr.transform(teste)"
      ],
      "metadata": {
        "id": "LjtCr6OqJHbl"
      },
      "execution_count": null,
      "outputs": []
    },
    {
      "cell_type": "code",
      "source": [
        "previsoes_rfr_teste.show()"
      ],
      "metadata": {
        "colab": {
          "base_uri": "https://localhost:8080/"
        },
        "id": "Euzua8j2JHOh",
        "outputId": "8bf1e936-e09d-41ad-a0b9-3aaecc136e4e"
      },
      "execution_count": null,
      "outputs": [
        {
          "output_type": "stream",
          "name": "stdout",
          "text": [
            "+--------------------+-----------------+-----------------+\n",
            "|            features|            label|       prediction|\n",
            "+--------------------+-----------------+-----------------+\n",
            "|[10.0,2.0,23.0,0....|77.08291763925925| 75.6224062954819|\n",
            "|[10.0,2.0,27.0,0....|82.24732577226081|83.00064904155809|\n",
            "|[10.0,2.0,97.0,0....|83.25181676833125|84.94709682344774|\n",
            "|[10.0,2.0,104.0,0...|77.35300131673203|78.33896937039898|\n",
            "|[10.0,2.0,124.0,0...|90.17639117330614|86.82481259621116|\n",
            "|[10.0,2.0,136.0,0...|88.34554797799443|86.16234616240942|\n",
            "|[10.0,2.0,140.0,0...|86.50893323629549| 86.1750643841004|\n",
            "|[10.0,2.0,142.0,0...|86.93957285116606|86.66806443760754|\n",
            "|[10.0,2.0,192.0,0...|85.94393419515428|86.07737743586156|\n",
            "|[10.0,2.0,212.0,0...|83.07114721517472|84.36008595214949|\n",
            "|[10.0,2.0,212.0,0...|88.02595553282634|86.82481259621116|\n",
            "|[10.0,2.0,280.0,0...| 87.4269780438346|86.31781803278606|\n",
            "|[10.0,2.0,310.0,0...|86.36356295198401|85.57016125634604|\n",
            "|[10.0,2.0,400.0,0...|80.81763491551862|81.05205561195393|\n",
            "|[10.0,2.0,400.0,0...|84.42231883435073|85.36465015545163|\n",
            "|[10.0,2.0,480.0,0...|86.30855201678071|85.23950812980053|\n",
            "|[10.0,2.0,560.0,0...|86.16238974026966|84.90113748492155|\n",
            "|[10.0,2.0,610.0,1...|72.87763782883495|78.67658484081426|\n",
            "|[10.0,2.0,680.0,0...|80.03259328999394|82.30755898060218|\n",
            "|[10.0,2.0,740.0,0...|84.69776465160885| 84.4821114371162|\n",
            "+--------------------+-----------------+-----------------+\n",
            "only showing top 20 rows\n",
            "\n"
          ]
        }
      ]
    },
    {
      "cell_type": "code",
      "source": [
        "previsoes_rfr_teste.describe()"
      ],
      "metadata": {
        "colab": {
          "base_uri": "https://localhost:8080/"
        },
        "id": "OVrMzo3rqRQW",
        "outputId": "a7902f01-5a24-497f-dcf2-8c144dadd9da"
      },
      "execution_count": null,
      "outputs": [
        {
          "output_type": "execute_result",
          "data": {
            "text/plain": [
              "DataFrame[summary: string, label: string, prediction: string]"
            ]
          },
          "metadata": {},
          "execution_count": 81
        }
      ]
    },
    {
      "cell_type": "code",
      "source": [
        "print('Random Forest Regression')\n",
        "print(\"=\"*30)\n",
        "print(\"Dados de Treino\")\n",
        "print(\"=\"*30)\n",
        "print(\"R²: %f\" % evaluator.evaluate(previsoes_rfr_treino, {evaluator.metricName: \"r2\"}))\n",
        "print(\"RMSE: %f\" % evaluator.evaluate(previsoes_rfr_treino, {evaluator.metricName: \"rmse\"}))\n",
        "print(\"\")\n",
        "print(\"=\"*30)\n",
        "print(\"Dados de Teste\")\n",
        "print(\"=\"*30)\n",
        "print(\"R²: %f\" % evaluator.evaluate(previsoes_rfr_teste, {evaluator.metricName: \"r2\"}))\n",
        "print(\"RMSE: %f\" % evaluator.evaluate(previsoes_rfr_teste, {evaluator.metricName: \"rmse\"}))"
      ],
      "metadata": {
        "colab": {
          "base_uri": "https://localhost:8080/"
        },
        "id": "gBZJUInpJTYx",
        "outputId": "d3dbde52-9037-4465-c437-a7221b4b9d9d"
      },
      "execution_count": null,
      "outputs": [
        {
          "output_type": "stream",
          "name": "stdout",
          "text": [
            "Random Forest Regression\n",
            "==============================\n",
            "Dados de Treino\n",
            "==============================\n",
            "R²: 0.980905\n",
            "RMSE: 2.025970\n",
            "\n",
            "==============================\n",
            "Dados de Teste\n",
            "==============================\n",
            "R²: 0.966685\n",
            "RMSE: 2.814275\n"
          ]
        }
      ]
    },
    {
      "cell_type": "code",
      "source": [
        "from pyspark.ml.regression import DecisionTreeRegressor\n",
        "from pyspark.ml.tuning import CrossValidator, ParamGridBuilder\n",
        "from pyspark.ml.evaluation import RegressionEvaluator\n",
        "from pyspark.ml.regression import RandomForestRegressor\n"
      ],
      "metadata": {
        "id": "3n_ZcAzJJVjK"
      },
      "execution_count": null,
      "outputs": []
    },
    {
      "cell_type": "code",
      "source": [
        "rfr = RandomForestRegressor()"
      ],
      "metadata": {
        "id": "67SoxqTxKKs9"
      },
      "execution_count": null,
      "outputs": []
    },
    {
      "cell_type": "code",
      "source": [
        "grid = ParamGridBuilder() \\\n",
        "    .addGrid(rfr.numTrees, [10, 20, 30]) \\\n",
        "    .addGrid(rfr.maxDepth, [5, 10]) \\\n",
        "    .addGrid(rfr.maxBins, [10, 32, 45]) \\\n",
        "    .build()"
      ],
      "metadata": {
        "id": "zf4wjLtYKMPt"
      },
      "execution_count": null,
      "outputs": []
    },
    {
      "cell_type": "code",
      "source": [
        "evaluator = RegressionEvaluator()"
      ],
      "metadata": {
        "id": "AE9BpNmdKNr1"
      },
      "execution_count": null,
      "outputs": []
    },
    {
      "cell_type": "code",
      "source": [
        "rfr_cv = CrossValidator(\n",
        "    estimator=rfr,\n",
        "    estimatorParamMaps=grid,\n",
        "    evaluator=evaluator,\n",
        "    numFolds=3\n",
        ")"
      ],
      "metadata": {
        "id": "aGKHZ_O0KPEs"
      },
      "execution_count": null,
      "outputs": []
    },
    {
      "cell_type": "code",
      "source": [
        "modelo_rfr_cv = rfr_cv.fit(treino)"
      ],
      "metadata": {
        "id": "_7SIgwZ3KQkl"
      },
      "execution_count": null,
      "outputs": []
    },
    {
      "cell_type": "code",
      "source": [
        "previsoes_rfr_cv_teste = modelo_rfr_cv.transform(teste)"
      ],
      "metadata": {
        "id": "C1LewUtEKSfF"
      },
      "execution_count": null,
      "outputs": []
    },
    {
      "cell_type": "code",
      "source": [
        "print('Random Forest')\n",
        "print(\"=\"*30)\n",
        "print(\"Sem Cross Validation\")\n",
        "print(\"=\"*30)\n",
        "print(\"R²: %f\" % evaluator.evaluate(previsoes_rfr_teste, {evaluator.metricName: \"r2\"}))\n",
        "print(\"RMSE: %f\" % evaluator.evaluate(previsoes_rfr_teste, {evaluator.metricName: \"rmse\"}))\n",
        "print(\"\")\n",
        "print(\"=\"*30)\n",
        "print(\"Com Cross Validation\")\n",
        "print(\"=\"*30)\n",
        "print(\"R²: %f\" % evaluator.evaluate(previsoes_rfr_cv_teste, {evaluator.metricName: \"r2\"}))\n",
        "print(\"RMSE: %f\" % evaluator.evaluate(previsoes_rfr_cv_teste, {evaluator.metricName: \"rmse\"}))"
      ],
      "metadata": {
        "colab": {
          "base_uri": "https://localhost:8080/"
        },
        "id": "U7O38j_8LBQT",
        "outputId": "8baee62a-603e-454d-fd21-3db43bdfaacc"
      },
      "execution_count": null,
      "outputs": [
        {
          "output_type": "stream",
          "name": "stdout",
          "text": [
            "Random Forest\n",
            "==============================\n",
            "Sem Cross Validation\n",
            "==============================\n",
            "R²: 0.966685\n",
            "RMSE: 2.814275\n",
            "\n",
            "==============================\n",
            "Com Cross Validation\n",
            "==============================\n",
            "R²: 0.976235\n",
            "RMSE: 2.376919\n"
          ]
        }
      ]
    },
    {
      "cell_type": "markdown",
      "source": [
        "## **Prevendo resultados**"
      ],
      "metadata": {
        "id": "3eysVcY0Lf2n"
      }
    },
    {
      "cell_type": "code",
      "source": [
        "X"
      ],
      "metadata": {
        "colab": {
          "base_uri": "https://localhost:8080/"
        },
        "id": "kHqs9LfpLj7u",
        "outputId": "0e5c9cb6-b78b-4398-c37d-ab85abe91f58"
      },
      "execution_count": null,
      "outputs": [
        {
          "output_type": "execute_result",
          "data": {
            "text/plain": [
              "['Precipitacao',\n",
              " 'DBO',\n",
              " 'Escherichia_coli',\n",
              " 'Fosforo',\n",
              " 'Nitrogenio',\n",
              " 'Oxigenio_Dissolvido',\n",
              " 'Solido',\n",
              " 'Temperatura',\n",
              " 'Turbidez',\n",
              " 'pH']"
            ]
          },
          "metadata": {},
          "execution_count": 91
        }
      ]
    },
    {
      "cell_type": "code",
      "source": [
        "novos_parametros = [{\n",
        "    'Precipitacao': 42,\n",
        "    'DBO': 10,\n",
        "    'Escherichia_coli': 15000,\n",
        "    'Fosforo': 2.1,\n",
        "    'Nitrogenio': 4.2,\n",
        "    'Oxigenio_Dissolvido': 6,\n",
        "    'Solido': 110,\n",
        "    'Temperatura': 14,\n",
        "    'Turbidez': 182,\n",
        "    'pH': 7,\n",
        "    'label': 0\n",
        "    }]"
      ],
      "metadata": {
        "id": "1ms5o8wWL2Lz"
      },
      "execution_count": null,
      "outputs": []
    },
    {
      "cell_type": "code",
      "source": [
        "novos_parametros = spark.createDataFrame(novos_parametros)"
      ],
      "metadata": {
        "id": "oj0SAmNfQJUj"
      },
      "execution_count": null,
      "outputs": []
    },
    {
      "cell_type": "code",
      "source": [
        "novos_parametros.show()"
      ],
      "metadata": {
        "colab": {
          "base_uri": "https://localhost:8080/"
        },
        "id": "a2s5szTpQJSY",
        "outputId": "55a90ad7-32b7-4bb9-f8da-0942e6b1ccec"
      },
      "execution_count": null,
      "outputs": [
        {
          "output_type": "stream",
          "name": "stdout",
          "text": [
            "+---+----------------+-------+----------+-------------------+------------+------+-----------+--------+-----+---+\n",
            "|DBO|Escherichia_coli|Fosforo|Nitrogenio|Oxigenio_Dissolvido|Precipitacao|Solido|Temperatura|Turbidez|label| pH|\n",
            "+---+----------------+-------+----------+-------------------+------------+------+-----------+--------+-----+---+\n",
            "| 10|           15000|    2.1|       4.2|                  6|          42|   110|         14|     182|    0|  7|\n",
            "+---+----------------+-------+----------+-------------------+------------+------+-----------+--------+-----+---+\n",
            "\n"
          ]
        }
      ]
    },
    {
      "cell_type": "code",
      "source": [
        "assembler = VectorAssembler(inputCols = X, outputCol = 'features')"
      ],
      "metadata": {
        "id": "pZ1nW_qmQWNH"
      },
      "execution_count": null,
      "outputs": []
    },
    {
      "cell_type": "code",
      "source": [
        "novos_parametros_vetorizado = assembler.transform(novos_parametros).select('features')\n",
        "\n",
        "from pyspark.sql.functions import lit\n",
        "novos_parametros_vetorizado = novos_parametros_vetorizado.withColumn('label', lit(0))"
      ],
      "metadata": {
        "id": "mCBX4IkoQcUL"
      },
      "execution_count": null,
      "outputs": []
    },
    {
      "cell_type": "code",
      "source": [
        "novos_parametros"
      ],
      "metadata": {
        "colab": {
          "base_uri": "https://localhost:8080/"
        },
        "id": "GeB77TNxQ02n",
        "outputId": "8f39a7ec-bb96-4df7-ddd7-11efb61451b1"
      },
      "execution_count": null,
      "outputs": [
        {
          "output_type": "execute_result",
          "data": {
            "text/plain": [
              "DataFrame[DBO: bigint, Escherichia_coli: bigint, Fosforo: double, Nitrogenio: double, Oxigenio_Dissolvido: bigint, Precipitacao: bigint, Solido: bigint, Temperatura: bigint, Turbidez: bigint, label: bigint, pH: bigint]"
            ]
          },
          "metadata": {},
          "execution_count": 97
        }
      ]
    },
    {
      "cell_type": "code",
      "source": [
        "novos_parametros.show()"
      ],
      "metadata": {
        "colab": {
          "base_uri": "https://localhost:8080/"
        },
        "id": "gcSDd0VoQy_n",
        "outputId": "83a682db-ff2e-4050-88bb-8d791dcb3874"
      },
      "execution_count": null,
      "outputs": [
        {
          "output_type": "stream",
          "name": "stdout",
          "text": [
            "+---+----------------+-------+----------+-------------------+------------+------+-----------+--------+-----+---+\n",
            "|DBO|Escherichia_coli|Fosforo|Nitrogenio|Oxigenio_Dissolvido|Precipitacao|Solido|Temperatura|Turbidez|label| pH|\n",
            "+---+----------------+-------+----------+-------------------+------------+------+-----------+--------+-----+---+\n",
            "| 10|           15000|    2.1|       4.2|                  6|          42|   110|         14|     182|    0|  7|\n",
            "+---+----------------+-------+----------+-------------------+------------+------+-----------+--------+-----+---+\n",
            "\n"
          ]
        }
      ]
    },
    {
      "cell_type": "code",
      "source": [
        "assembler = VectorAssembler(inputCols = X, outputCol = 'features')\n",
        "novos_parametros = assembler.transform(novos_parametros).select('features','label')\n",
        "modelo_rfr_cv.transform(novos_parametros).show()"
      ],
      "metadata": {
        "colab": {
          "base_uri": "https://localhost:8080/"
        },
        "id": "tX9DgNSJRUrR",
        "outputId": "7108ce72-c0d9-4ee2-8917-1d7c0bde154f"
      },
      "execution_count": null,
      "outputs": [
        {
          "output_type": "stream",
          "name": "stdout",
          "text": [
            "+--------------------+-----+-----------------+\n",
            "|            features|label|       prediction|\n",
            "+--------------------+-----+-----------------+\n",
            "|[42.0,10.0,15000....|    0|48.86582328073818|\n",
            "+--------------------+-----+-----------------+\n",
            "\n"
          ]
        }
      ]
    },
    {
      "cell_type": "code",
      "source": [
        "importances = modelo_rfr_cv.bestModel.featureImportances\n",
        "\n",
        "feature_importances = pd.DataFrame({'Feature': X, 'Importance': importances.toArray()})\n",
        "feature_importances = feature_importances.sort_values('Importance', ascending=False)"
      ],
      "metadata": {
        "id": "SmqG8qmd__oC"
      },
      "execution_count": null,
      "outputs": []
    },
    {
      "cell_type": "code",
      "source": [
        "import matplotlib.pyplot as plt\n",
        "import seaborn as sns"
      ],
      "metadata": {
        "id": "SMQ6WIb40DBt"
      },
      "execution_count": null,
      "outputs": []
    },
    {
      "cell_type": "code",
      "source": [
        "plt.figure(figsize=(8, 6))\n",
        "plt.barh(feature_importances['Feature'], feature_importances['Importance'])\n",
        "plt.xlabel('Influência')\n",
        "plt.ylabel('Variável')\n",
        "plt.title('Importância das variáveis preditoras para o IQA no Random Forest')\n",
        "plt.show()"
      ],
      "metadata": {
        "colab": {
          "base_uri": "https://localhost:8080/"
        },
        "id": "ugjzSemWFcFH",
        "outputId": "b426619d-b8b2-40ff-af19-cff8c5476116"
      },
      "execution_count": null,
      "outputs": [
        {
          "output_type": "display_data",
          "data": {
            "text/plain": [
              "<Figure size 800x600 with 1 Axes>"
            ],
            "image/png": "[encoded data removed]"
          },
          "metadata": {}
        }
      ]
    },
    {
      "cell_type": "code",
      "source": [
        "import numpy as np\n",
        "\n",
        "plt.figure(figsize=(8, 6))\n",
        "\n",
        "previsoes_rfr_cv_teste = modelo_rfr_cv.transform(teste)\n",
        "\n",
        "y_test = previsoes_rfr_cv_teste.select(\"label\").toPandas()\n",
        "y_pred = previsoes_rfr_cv_teste.select(\"prediction\").toPandas()\n",
        "\n",
        "x = np.linspace(y_test.min(), y_test.max(), 100)\n",
        "plt.plot(x, x, color='red', linestyle='--', lw=2, label='Ideal Prediction (y = x)')\n",
        "\n",
        "plt.text(0.95, 0.05, 'y = x', transform=plt.gca().transAxes, ha='right', va='bottom', color='red')\n",
        "\n",
        "plt.scatter(y_test, y_pred)\n",
        "plt.xlabel('Valores Reais')\n",
        "plt.ylabel('Valores Previstos')\n",
        "plt.title('Gráfico de Dispersão - Previsto x Real (Random Forest)')\n",
        "plt.legend()\n",
        "plt.show()"
      ],
      "metadata": {
        "colab": {
          "base_uri": "https://localhost:8080/"
        },
        "id": "lTRj-r9NGGTV",
        "outputId": "7ee68aa3-eae3-4901-b330-d3b0438fcb08"
      },
      "execution_count": null,
      "outputs": [
        {
          "output_type": "display_data",
          "data": {
            "text/plain": [
              "<Figure size 800x600 with 1 Axes>"
            ],
            "image/png": "[encoded data removed]"
          },
          "metadata": {}
        }
      ]
    },
    {
      "cell_type": "markdown",
      "source": [],
      "metadata": {
        "id": "EZH5wNfKlFir"
      }
    }
  ]
}